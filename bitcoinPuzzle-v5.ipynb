{
 "cells": [
  {
   "cell_type": "markdown",
   "metadata": {},
   "source": [
    "# Compare SECP256k1, SHA-256, RIPEMD160 and BASE58"
   ]
  },
  {
   "cell_type": "code",
   "execution_count": 17,
   "metadata": {},
   "outputs": [
    {
     "name": "stdout",
     "output_type": "stream",
     "text": [
      "Requirement already satisfied: siphash24 in /Users/nicky.reinert/development.private/python/bitcoinPuzzle/.venv/lib/python3.12/site-packages (1.6)\n",
      "Requirement already satisfied: pyopencl in /Users/nicky.reinert/development.private/python/bitcoinPuzzle/.venv/lib/python3.12/site-packages (2024.2.7)\n",
      "Requirement already satisfied: base58 in /Users/nicky.reinert/development.private/python/bitcoinPuzzle/.venv/lib/python3.12/site-packages (2.1.1)\n",
      "Requirement already satisfied: ecdsa in /Users/nicky.reinert/development.private/python/bitcoinPuzzle/.venv/lib/python3.12/site-packages (0.19.0)\n",
      "Requirement already satisfied: pycryptodome in /Users/nicky.reinert/development.private/python/bitcoinPuzzle/.venv/lib/python3.12/site-packages (3.21.0)\n",
      "Requirement already satisfied: Cython in /Users/nicky.reinert/development.private/python/bitcoinPuzzle/.venv/lib/python3.12/site-packages (3.0.11)\n",
      "Requirement already satisfied: numpy in /Users/nicky.reinert/development.private/python/bitcoinPuzzle/.venv/lib/python3.12/site-packages (from pyopencl) (2.1.1)\n",
      "Requirement already satisfied: platformdirs>=2.2.0 in /Users/nicky.reinert/development.private/python/bitcoinPuzzle/.venv/lib/python3.12/site-packages (from pyopencl) (4.3.6)\n",
      "Requirement already satisfied: pytools>=2024.1.5 in /Users/nicky.reinert/development.private/python/bitcoinPuzzle/.venv/lib/python3.12/site-packages (from pyopencl) (2024.1.14)\n",
      "Requirement already satisfied: six>=1.9.0 in /Users/nicky.reinert/development.private/python/bitcoinPuzzle/.venv/lib/python3.12/site-packages (from ecdsa) (1.16.0)\n",
      "Requirement already satisfied: typing-extensions>=4 in /Users/nicky.reinert/development.private/python/bitcoinPuzzle/.venv/lib/python3.12/site-packages (from pytools>=2024.1.5->pyopencl) (4.12.2)\n"
     ]
    }
   ],
   "source": [
    "!python3 -m pip install siphash24 pyopencl base58 ecdsa pycryptodome Cython cryptography"
   ]
  },
  {
   "cell_type": "code",
   "execution_count": 6,
   "metadata": {},
   "outputs": [],
   "source": [
    "import hashlib\n",
    "import time\n",
    "from ecdsa import SECP256k1, SigningKey\n",
    "import binascii\n",
    "import base58\n",
    "import time\n",
    "import os\n",
    "import numpy as np\n",
    "import pyopencl as cl\n",
    "from Crypto.Hash import SHA256\n",
    "import cryptography\n",
    "from cryptography.hazmat.backends import default_backend\n",
    "from cryptography.hazmat.primitives import hashes\n",
    "from cryptography.hazmat.primitives.hashes import Hash\n",
    "from multiprocessing import Pool\n",
    "\n",
    "values = [os.urandom(32) for _ in range(0, 10_000)]"
   ]
  },
  {
   "cell_type": "markdown",
   "metadata": {},
   "source": [
    "## SECP256k1"
   ]
  },
  {
   "cell_type": "code",
   "execution_count": 2,
   "metadata": {},
   "outputs": [
    {
     "name": "stdout",
     "output_type": "stream",
     "text": [
      "Time taken (SECP256k1): 6.18 seconds\n"
     ]
    }
   ],
   "source": [
    "start_time = time.time()\n",
    "\n",
    "for value in values:\n",
    "    result = SigningKey.from_string(value, curve=SECP256k1)\n",
    "    result = result.get_verifying_key()\n",
    "    result.to_string(\"compressed\")\n",
    "\n",
    "end_time = time.time()\n",
    "\n",
    "print(f\"Time taken (SECP256k1): {end_time - start_time:.2f} seconds\")\n"
   ]
  },
  {
   "cell_type": "markdown",
   "metadata": {},
   "source": [
    "## SHA-256\n",
    "### using hashlib"
   ]
  },
  {
   "cell_type": "code",
   "execution_count": 8,
   "metadata": {},
   "outputs": [
    {
     "name": "stdout",
     "output_type": "stream",
     "text": [
      "Time taken (3 x SHA-256): 0.03 seconds\n"
     ]
    }
   ],
   "source": [
    "start_time = time.time()\n",
    "\n",
    "for value in values:\n",
    "    result = hashlib.sha256(value).digest()\n",
    "    result = hashlib.sha256(result).digest()\n",
    "    result = hashlib.sha256(result).digest()\n",
    "\n",
    "end_time = time.time()\n",
    "\n",
    "print(f\"Time taken (3 x SHA-256): {end_time - start_time:.2f} seconds\")"
   ]
  },
  {
   "cell_type": "markdown",
   "metadata": {},
   "source": [
    "### using Crypto.Hash"
   ]
  },
  {
   "cell_type": "code",
   "execution_count": 12,
   "metadata": {},
   "outputs": [
    {
     "name": "stdout",
     "output_type": "stream",
     "text": [
      "Time taken (batch processing): 0.00 seconds\n"
     ]
    }
   ],
   "source": [
    "# Concatenate all strings to avoid per-call overhead\n",
    "data = b''.join([f\"string_{i}\".encode('utf-8') for i in range(100_000)])\n",
    "\n",
    "start_time = time.time()\n",
    "\n",
    "h = SHA256.new()\n",
    "h.update(data)  # Process all input data in one call\n",
    "digest = h.digest()\n",
    "\n",
    "end_time = time.time()\n",
    "print(f\"Time taken (batch processing): {end_time - start_time:.2f} seconds\")"
   ]
  },
  {
   "cell_type": "markdown",
   "metadata": {},
   "source": [
    "### using PyopenCL"
   ]
  },
  {
   "cell_type": "code",
   "execution_count": 16,
   "metadata": {},
   "outputs": [
    {
     "name": "stdout",
     "output_type": "stream",
     "text": [
      "Time taken (OpenCL GPU): 0.25 seconds\n",
      "Output 0: string_0\u0000\u0000\u0000\u0000\u0000\u0000\u0000\u0000\u0000\u0000\u0000\u0000\u0000\u0000\u0000\u0000\u0000\u0000\u0000\u0000\u0000\u0000\u0000\u0000\u0000\u0000\u0000\u0000\u0000\u0000\u0000\u0000\u0000\u0000\u0000\u0000\u0000\u0000\u0000\u0000\u0000\u0000\u0000\u0000\u0000\u0000\u0000\u0000\u0000\u0000\u0000\u0000\u0000\u0000\u0000\u0000\n",
      "Output 1: string_1\u0000\u0000\u0000\u0000\u0000\u0000\u0000\u0000\u0000\u0000\u0000\u0000\u0000\u0000\u0000\u0000\u0000\u0000\u0000\u0000\u0000\u0000\u0000\u0000\u0000\u0000\u0000\u0000\u0000\u0000\u0000\u0000\u0000\u0000\u0000\u0000\u0000\u0000\u0000\u0000\u0000\u0000\u0000\u0000\u0000\u0000\u0000\u0000\u0000\u0000\u0000\u0000\u0000\u0000\u0000\u0000\n",
      "Output 2: string_2\u0000\u0000\u0000\u0000\u0000\u0000\u0000\u0000\u0000\u0000\u0000\u0000\u0000\u0000\u0000\u0000\u0000\u0000\u0000\u0000\u0000\u0000\u0000\u0000\u0000\u0000\u0000\u0000\u0000\u0000\u0000\u0000\u0000\u0000\u0000\u0000\u0000\u0000\u0000\u0000\u0000\u0000\u0000\u0000\u0000\u0000\u0000\u0000\u0000\u0000\u0000\u0000\u0000\u0000\u0000\u0000\n",
      "Output 3: string_3\u0000\u0000\u0000\u0000\u0000\u0000\u0000\u0000\u0000\u0000\u0000\u0000\u0000\u0000\u0000\u0000\u0000\u0000\u0000\u0000\u0000\u0000\u0000\u0000\u0000\u0000\u0000\u0000\u0000\u0000\u0000\u0000\u0000\u0000\u0000\u0000\u0000\u0000\u0000\u0000\u0000\u0000\u0000\u0000\u0000\u0000\u0000\u0000\u0000\u0000\u0000\u0000\u0000\u0000\u0000\u0000\n",
      "Output 4: string_4\u0000\u0000\u0000\u0000\u0000\u0000\u0000\u0000\u0000\u0000\u0000\u0000\u0000\u0000\u0000\u0000\u0000\u0000\u0000\u0000\u0000\u0000\u0000\u0000\u0000\u0000\u0000\u0000\u0000\u0000\u0000\u0000\u0000\u0000\u0000\u0000\u0000\u0000\u0000\u0000\u0000\u0000\u0000\u0000\u0000\u0000\u0000\u0000\u0000\u0000\u0000\u0000\u0000\u0000\u0000\u0000\n",
      "Output 5: string_5\u0000\u0000\u0000\u0000\u0000\u0000\u0000\u0000\u0000\u0000\u0000\u0000\u0000\u0000\u0000\u0000\u0000\u0000\u0000\u0000\u0000\u0000\u0000\u0000\u0000\u0000\u0000\u0000\u0000\u0000\u0000\u0000\u0000\u0000\u0000\u0000\u0000\u0000\u0000\u0000\u0000\u0000\u0000\u0000\u0000\u0000\u0000\u0000\u0000\u0000\u0000\u0000\u0000\u0000\u0000\u0000\n",
      "Output 6: string_6\u0000\u0000\u0000\u0000\u0000\u0000\u0000\u0000\u0000\u0000\u0000\u0000\u0000\u0000\u0000\u0000\u0000\u0000\u0000\u0000\u0000\u0000\u0000\u0000\u0000\u0000\u0000\u0000\u0000\u0000\u0000\u0000\u0000\u0000\u0000\u0000\u0000\u0000\u0000\u0000\u0000\u0000\u0000\u0000\u0000\u0000\u0000\u0000\u0000\u0000\u0000\u0000\u0000\u0000\u0000\u0000\n",
      "Output 7: string_7\u0000\u0000\u0000\u0000\u0000\u0000\u0000\u0000\u0000\u0000\u0000\u0000\u0000\u0000\u0000\u0000\u0000\u0000\u0000\u0000\u0000\u0000\u0000\u0000\u0000\u0000\u0000\u0000\u0000\u0000\u0000\u0000\u0000\u0000\u0000\u0000\u0000\u0000\u0000\u0000\u0000\u0000\u0000\u0000\u0000\u0000\u0000\u0000\u0000\u0000\u0000\u0000\u0000\u0000\u0000\u0000\n",
      "Output 8: string_8\u0000\u0000\u0000\u0000\u0000\u0000\u0000\u0000\u0000\u0000\u0000\u0000\u0000\u0000\u0000\u0000\u0000\u0000\u0000\u0000\u0000\u0000\u0000\u0000\u0000\u0000\u0000\u0000\u0000\u0000\u0000\u0000\u0000\u0000\u0000\u0000\u0000\u0000\u0000\u0000\u0000\u0000\u0000\u0000\u0000\u0000\u0000\u0000\u0000\u0000\u0000\u0000\u0000\u0000\u0000\u0000\n",
      "Output 9: string_9\u0000\u0000\u0000\u0000\u0000\u0000\u0000\u0000\u0000\u0000\u0000\u0000\u0000\u0000\u0000\u0000\u0000\u0000\u0000\u0000\u0000\u0000\u0000\u0000\u0000\u0000\u0000\u0000\u0000\u0000\u0000\u0000\u0000\u0000\u0000\u0000\u0000\u0000\u0000\u0000\u0000\u0000\u0000\u0000\u0000\u0000\u0000\u0000\u0000\u0000\u0000\u0000\u0000\u0000\u0000\u0000\n"
     ]
    }
   ],
   "source": [
    "# OpenCL kernel for SHA-256 (simplified for now)\n",
    "sha256_kernel = \"\"\"\n",
    "__kernel void sha256(__global const char* input, __global char* output) {\n",
    "    int gid = get_global_id(0);\n",
    "    // Implement SHA-256 logic here (currently just copying input to output)\n",
    "    for (int i = 0; i < 64; ++i) {  // Assuming 64 bytes per input\n",
    "        output[gid * 64 + i] = input[gid * 64 + i];\n",
    "    }\n",
    "}\n",
    "\"\"\"\n",
    "\n",
    "# Number of input strings\n",
    "num_strings = 10_000_000\n",
    "max_string_length = 64  # Fixed size for each input string\n",
    "\n",
    "# Initialize OpenCL context and queue\n",
    "platform = cl.get_platforms()[0]\n",
    "device = platform.get_devices()[0]\n",
    "context = cl.Context([device])\n",
    "queue = cl.CommandQueue(context)\n",
    "\n",
    "# Generate the input data: fixed-length strings\n",
    "strings = [f\"string_{i}\"[:max_string_length].ljust(max_string_length, '\\0') for i in range(num_strings)]\n",
    "input_data = np.array([list(s.encode('utf-8')) for s in strings], dtype=np.uint8).flatten()\n",
    "\n",
    "# Initialize output array\n",
    "output_data = np.zeros_like(input_data, dtype=np.uint8)\n",
    "\n",
    "# Create OpenCL buffers\n",
    "input_buffer = cl.Buffer(context, cl.mem_flags.READ_ONLY | cl.mem_flags.COPY_HOST_PTR, hostbuf=input_data)\n",
    "output_buffer = cl.Buffer(context, cl.mem_flags.WRITE_ONLY, output_data.nbytes)\n",
    "\n",
    "# Compile OpenCL program\n",
    "program = cl.Program(context, sha256_kernel).build()\n",
    "\n",
    "# Run the OpenCL kernel\n",
    "start_time = time.time()\n",
    "program.sha256(queue, (num_strings,), None, input_buffer, output_buffer)\n",
    "cl.enqueue_copy(queue, output_data, output_buffer)\n",
    "queue.finish()\n",
    "end_time = time.time()\n",
    "\n",
    "print(f\"Time taken (OpenCL GPU): {end_time - start_time:.2f} seconds\")\n",
    "\n",
    "# Optional: print first 10 outputs for verification (truncated for brevity)\n",
    "for i in range(10):\n",
    "    print(f\"Output {i}: {output_data[i * max_string_length:(i + 1) * max_string_length].tobytes().decode('utf-8', errors='ignore')}\")\n"
   ]
  },
  {
   "cell_type": "markdown",
   "metadata": {},
   "source": [
    "### using cryptography"
   ]
  },
  {
   "cell_type": "code",
   "execution_count": 8,
   "metadata": {},
   "outputs": [
    {
     "name": "stdout",
     "output_type": "stream",
     "text": [
      "Time taken with cryptography (OpenSSL backend): 0.19 seconds\n"
     ]
    }
   ],
   "source": [
    "data = b''.join([f\"string_{i}\".encode('utf-8') for i in range(10000000)])\n",
    "\n",
    "start_time = time.time()\n",
    "\n",
    "# Use cryptography's SHA-256 implementation\n",
    "digest = Hash(hashes.SHA256(), backend=default_backend())\n",
    "digest.update(data)\n",
    "final_hash = digest.finalize()\n",
    "\n",
    "end_time = time.time()\n",
    "\n",
    "print(f\"Time taken with cryptography (OpenSSL backend): {end_time - start_time:.2f} seconds\")"
   ]
  },
  {
   "cell_type": "markdown",
   "metadata": {},
   "source": [
    "## RIPEMD160"
   ]
  },
  {
   "cell_type": "code",
   "execution_count": 8,
   "metadata": {},
   "outputs": [
    {
     "name": "stdout",
     "output_type": "stream",
     "text": [
      "Time taken (RIPEMD160): 0.01 seconds\n"
     ]
    }
   ],
   "source": [
    "start_time = time.time()\n",
    "\n",
    "for value in values:\n",
    "    result = hashlib.new('ripemd160', value).digest()\n",
    "\n",
    "end_time = time.time()\n",
    "\n",
    "print(f\"Time taken (RIPEMD160): {end_time - start_time:.2f} seconds\")"
   ]
  },
  {
   "cell_type": "markdown",
   "metadata": {},
   "source": [
    "## BASE58"
   ]
  },
  {
   "cell_type": "code",
   "execution_count": 9,
   "metadata": {},
   "outputs": [
    {
     "name": "stdout",
     "output_type": "stream",
     "text": [
      "Time taken (BASE58): 0.09 seconds\n"
     ]
    }
   ],
   "source": [
    "start_time = time.time()\n",
    "\n",
    "for value in values:\n",
    "    result = base58.b58encode(value).decode()\n",
    "\n",
    "end_time = time.time()\n",
    "\n",
    "print(f\"Time taken (BASE58): {end_time - start_time:.2f} seconds\")"
   ]
  },
  {
   "cell_type": "markdown",
   "metadata": {},
   "source": [
    "## All together"
   ]
  },
  {
   "cell_type": "code",
   "execution_count": 63,
   "metadata": {},
   "outputs": [
    {
     "name": "stdout",
     "output_type": "stream",
     "text": [
      "Time taken (all together): 4.82 seconds\n"
     ]
    }
   ],
   "source": [
    "def private_to_public(private_key_bytes):\n",
    "    private_key = SigningKey.from_string(private_key_bytes, curve=SECP256k1)\n",
    "    public_key = private_key.get_verifying_key()\n",
    "    return public_key.to_string(\"compressed\")\n",
    "\n",
    "def public_key_to_address(compressed_public_key_bytes):\n",
    "    sha256_hash = hashlib.sha256(compressed_public_key_bytes).digest()\n",
    "    ripemd160_hash = hashlib.new('ripemd160', sha256_hash).digest()\n",
    "    versioned_payload = b'\\x00' + ripemd160_hash\n",
    "    checksum = hashlib.sha256(hashlib.sha256(versioned_payload).digest()).digest()[:4]\n",
    "    payload_with_checksum = versioned_payload + checksum\n",
    "    return base58.b58encode(payload_with_checksum).decode()\n",
    "\n",
    "def generate_key(private_key):\n",
    "    private_key_hex = '{:064x}'.format(private_key)\n",
    "    private_key_bytes = binascii.unhexlify(private_key_hex)\n",
    "\n",
    "    compressed_public_key = private_to_public(private_key_bytes)\n",
    "    bitcoin_address = public_key_to_address(compressed_public_key)\n",
    "    \n",
    "    return (private_key_hex, binascii.hexlify(compressed_public_key).decode(), bitcoin_address)\n",
    "\n",
    "start_time = time.time()\n",
    "\n",
    "for value in values:\n",
    "    generate_key(int.from_bytes(value, byteorder='big'))\n",
    "\n",
    "end_time = time.time()\n",
    "\n",
    "print(f\"Time taken (all together): {end_time - start_time:.2f} seconds\")"
   ]
  }
 ],
 "metadata": {
  "kernelspec": {
   "display_name": ".venv",
   "language": "python",
   "name": "python3"
  },
  "language_info": {
   "codemirror_mode": {
    "name": "ipython",
    "version": 3
   },
   "file_extension": ".py",
   "mimetype": "text/x-python",
   "name": "python",
   "nbconvert_exporter": "python",
   "pygments_lexer": "ipython3",
   "version": "3.12.4"
  }
 },
 "nbformat": 4,
 "nbformat_minor": 2
}
