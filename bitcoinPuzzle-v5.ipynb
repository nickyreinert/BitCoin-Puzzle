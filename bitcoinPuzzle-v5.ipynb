{
 "cells": [
  {
   "cell_type": "markdown",
   "metadata": {},
   "source": [
    "# Compare SECP256k1, SHA-256, RIPEMD160 and BASE58"
   ]
  },
  {
   "cell_type": "code",
   "execution_count": 2,
   "metadata": {},
   "outputs": [],
   "source": [
    "import hashlib\n",
    "import time\n",
    "from ecdsa import SECP256k1, SigningKey\n",
    "import binascii\n",
    "import hashlib\n",
    "import base58\n",
    "import time\n",
    "import os\n",
    "\n",
    "values = [os.urandom(32) for _ in range(0, 10_000)]"
   ]
  },
  {
   "cell_type": "markdown",
   "metadata": {},
   "source": [
    "## SECP256k1"
   ]
  },
  {
   "cell_type": "code",
   "execution_count": 3,
   "metadata": {},
   "outputs": [
    {
     "name": "stdout",
     "output_type": "stream",
     "text": [
      "Time taken (SECP256k1): 2.37 seconds\n"
     ]
    }
   ],
   "source": [
    "start_time = time.time()\n",
    "\n",
    "for value in values:\n",
    "    result = SigningKey.from_string(value, curve=SECP256k1)\n",
    "    result = result.get_verifying_key()\n",
    "    result.to_string(\"compressed\")\n",
    "\n",
    "end_time = time.time()\n",
    "\n",
    "print(f\"Time taken (SECP256k1): {end_time - start_time:.2f} seconds\")\n"
   ]
  },
  {
   "cell_type": "markdown",
   "metadata": {},
   "source": [
    "## SHA-256"
   ]
  },
  {
   "cell_type": "code",
   "execution_count": 7,
   "metadata": {},
   "outputs": [
    {
     "name": "stdout",
     "output_type": "stream",
     "text": [
      "Time taken (3 x SHA-256): 0.02 seconds\n"
     ]
    }
   ],
   "source": [
    "start_time = time.time()\n",
    "\n",
    "for value in values:\n",
    "    result = hashlib.sha256(value).digest()\n",
    "    result = hashlib.sha256(result).digest()\n",
    "    result = hashlib.sha256(result).digest()\n",
    "\n",
    "end_time = time.time()\n",
    "\n",
    "print(f\"Time taken (3 x SHA-256): {end_time - start_time:.2f} seconds\")"
   ]
  },
  {
   "cell_type": "markdown",
   "metadata": {},
   "source": [
    "## RIPEMD160"
   ]
  },
  {
   "cell_type": "code",
   "execution_count": 8,
   "metadata": {},
   "outputs": [
    {
     "name": "stdout",
     "output_type": "stream",
     "text": [
      "Time taken (RIPEMD160): 0.01 seconds\n"
     ]
    }
   ],
   "source": [
    "start_time = time.time()\n",
    "\n",
    "for value in values:\n",
    "    result = hashlib.new('ripemd160', value).digest()\n",
    "\n",
    "end_time = time.time()\n",
    "\n",
    "print(f\"Time taken (RIPEMD160): {end_time - start_time:.2f} seconds\")"
   ]
  },
  {
   "cell_type": "markdown",
   "metadata": {},
   "source": [
    "## BASE58"
   ]
  },
  {
   "cell_type": "code",
   "execution_count": 9,
   "metadata": {},
   "outputs": [
    {
     "name": "stdout",
     "output_type": "stream",
     "text": [
      "Time taken (BASE58): 0.09 seconds\n"
     ]
    }
   ],
   "source": [
    "start_time = time.time()\n",
    "\n",
    "for value in values:\n",
    "    result = base58.b58encode(value).decode()\n",
    "\n",
    "end_time = time.time()\n",
    "\n",
    "print(f\"Time taken (BASE58): {end_time - start_time:.2f} seconds\")"
   ]
  },
  {
   "cell_type": "markdown",
   "metadata": {},
   "source": [
    "## All together"
   ]
  },
  {
   "cell_type": "code",
   "execution_count": 63,
   "metadata": {},
   "outputs": [
    {
     "name": "stdout",
     "output_type": "stream",
     "text": [
      "Time taken (all together): 4.82 seconds\n"
     ]
    }
   ],
   "source": [
    "def private_to_public(private_key_bytes):\n",
    "    private_key = SigningKey.from_string(private_key_bytes, curve=SECP256k1)\n",
    "    public_key = private_key.get_verifying_key()\n",
    "    return public_key.to_string(\"compressed\")\n",
    "\n",
    "def public_key_to_address(compressed_public_key_bytes):\n",
    "    sha256_hash = hashlib.sha256(compressed_public_key_bytes).digest()\n",
    "    ripemd160_hash = hashlib.new('ripemd160', sha256_hash).digest()\n",
    "    versioned_payload = b'\\x00' + ripemd160_hash\n",
    "    checksum = hashlib.sha256(hashlib.sha256(versioned_payload).digest()).digest()[:4]\n",
    "    payload_with_checksum = versioned_payload + checksum\n",
    "    return base58.b58encode(payload_with_checksum).decode()\n",
    "\n",
    "def generate_key(private_key):\n",
    "    private_key_hex = '{:064x}'.format(private_key)\n",
    "    private_key_bytes = binascii.unhexlify(private_key_hex)\n",
    "\n",
    "    compressed_public_key = private_to_public(private_key_bytes)\n",
    "    bitcoin_address = public_key_to_address(compressed_public_key)\n",
    "    \n",
    "    return (private_key_hex, binascii.hexlify(compressed_public_key).decode(), bitcoin_address)\n",
    "\n",
    "start_time = time.time()\n",
    "\n",
    "for value in values:\n",
    "    generate_key(int.from_bytes(value, byteorder='big'))\n",
    "\n",
    "end_time = time.time()\n",
    "\n",
    "print(f\"Time taken (all together): {end_time - start_time:.2f} seconds\")"
   ]
  }
 ],
 "metadata": {
  "kernelspec": {
   "display_name": ".venv",
   "language": "python",
   "name": "python3"
  },
  "language_info": {
   "codemirror_mode": {
    "name": "ipython",
    "version": 3
   },
   "file_extension": ".py",
   "mimetype": "text/x-python",
   "name": "python",
   "nbconvert_exporter": "python",
   "pygments_lexer": "ipython3",
   "version": "3.9.6"
  }
 },
 "nbformat": 4,
 "nbformat_minor": 2
}
